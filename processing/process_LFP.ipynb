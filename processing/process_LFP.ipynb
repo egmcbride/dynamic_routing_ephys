{
 "cells": [
  {
   "cell_type": "markdown",
   "id": "5e94bf33",
   "metadata": {},
   "source": [
    "## process LFP from DR recordings"
   ]
  },
  {
   "cell_type": "code",
   "execution_count": 2,
   "id": "e2a66fe5",
   "metadata": {},
   "outputs": [],
   "source": [
    "#Import packages\n",
    "import pandas as pd\n",
    "import h5py\n",
    "import numpy as np\n",
    "import scipy as sp\n",
    "import scipy.signal as sg\n",
    "import scipy.stats as st\n",
    "import xarray as xr\n",
    "import os\n",
    "import matplotlib.pyplot as plt\n",
    "from matplotlib import patches\n",
    "import ast\n",
    "import glob\n",
    "import re\n",
    "\n",
    "import sync.sync as sync\n",
    "import probeSync\n",
    "import ecephys\n",
    "\n",
    "# from DR_analysis_utils import Session, makePSTH, make_neuron_time_trials_tensor \n",
    "# from DR_analysis_utils import compute_smoothed_response_rate, compute_block_modulation\n",
    "\n",
    "%matplotlib notebook"
   ]
  },
  {
   "cell_type": "code",
   "execution_count": 3,
   "id": "b63a31d3",
   "metadata": {},
   "outputs": [],
   "source": [
    "mainpath=r\"Y:\\DRpilot_649943_20230215\"\n",
    "lfp_path=r\"Y:\\DRpilot_649943_20230215\\DRpilot_649943_20230215_probeABCDEF\\Record Node 103\\experiment1\\recording1\\continuous\\Neuropix-PXI-100.ProbeC-LFP\\continuous.dat\"\n",
    "lfp_samples_path=r\"Y:\\DRpilot_649943_20230215\\DRpilot_649943_20230215_probeABCDEF\\Record Node 103\\experiment1\\recording1\\continuous\\Neuropix-PXI-100.ProbeC-LFP\\sample_numbers.npy\"\n"
   ]
  },
  {
   "cell_type": "code",
   "execution_count": 4,
   "id": "ad23fc23",
   "metadata": {},
   "outputs": [
    {
     "data": {
      "text/plain": [
       "array([20539277, 20539278, 20539279, ..., 32567008, 32567009, 32567010],\n",
       "      dtype=int64)"
      ]
     },
     "execution_count": 4,
     "metadata": {},
     "output_type": "execute_result"
    }
   ],
   "source": [
    "lfp_samples=np.load(lfp_samples_path)\n",
    "lfp_samples"
   ]
  },
  {
   "cell_type": "code",
   "execution_count": 18,
   "id": "a6bc41a2",
   "metadata": {},
   "outputs": [],
   "source": [
    "lfp_samples=lfp_samples-np.min(lfp_samples)\n",
    "lfp_samples=lfp_samples*12\n",
    "\n",
    "# if np.max(lfp_samples)>length(timestamps):\n",
    "#     last_lfp_samp=np.where(lfp_samples<=length(timestamps),1,'last')\n",
    "#     lfp_samples=lfp_samples(0:last_lfp_samp)\n",
    "\n"
   ]
  },
  {
   "cell_type": "code",
   "execution_count": 12,
   "id": "36b1a545",
   "metadata": {},
   "outputs": [
    {
     "data": {
      "text/plain": [
       "array([        0,        12,        24, ..., 144332772, 144332784,\n",
       "       144332796], dtype=int64)"
      ]
     },
     "execution_count": 12,
     "metadata": {},
     "output_type": "execute_result"
    }
   ],
   "source": [
    "# lfp_timestamps=(lfp_samples/probe_lfp_sample_rate)-probe_shift\n",
    "\n",
    "lfp_samples"
   ]
  },
  {
   "cell_type": "code",
   "execution_count": null,
   "id": "3a2eaf58",
   "metadata": {},
   "outputs": [],
   "source": [
    "#how to align LFP timestamps??"
   ]
  },
  {
   "cell_type": "code",
   "execution_count": 7,
   "id": "57e70898",
   "metadata": {},
   "outputs": [
    {
     "name": "stdout",
     "output_type": "stream",
     "text": [
      "Master start index: [0]\n",
      "Probe end index: -1\n",
      "Master start index: [0]\n",
      "Probe end index: -1\n"
     ]
    }
   ],
   "source": [
    "# sync\n",
    "ephysPath = r\"Y:\\DRpilot_649943_20230215\\DRpilot_649943_20230215_probeABCDEF\\Record Node 103\\experiment1\\recording1\"\n",
    "syncPath = r\"Y:\\DRpilot_649943_20230215\\20230215T115233.h5\"\n",
    "syncDataset = sync.Dataset(syncPath)\n",
    "\n",
    "syncBarcodeRising,syncBarcodeFalling = probeSync.get_sync_line_data(syncDataset,'barcode_ephys')\n",
    "syncBarcodeTimes,syncBarcodes = ecephys.extract_barcodes_from_times(syncBarcodeRising,syncBarcodeFalling)\n",
    "\n",
    "\n",
    "# ephys sync data\n",
    "ephysSampleRate = 30000\n",
    "\n",
    "dirNames = ['ProbeC','DAQ']\n",
    "\n",
    "syncData = {key: {} for key in dirNames}\n",
    "for key in syncData:\n",
    "    keyMod = '*'+key+'-AP' if 'Probe' in key else '*'+key+'*'  \n",
    "    datTimestampsPath = os.path.join(glob.glob(os.path.join(ephysPath,'continuous',keyMod))[0],'sample_numbers.npy')\n",
    "    ttlStatesPath = os.path.join(glob.glob(os.path.join(ephysPath,'events',keyMod))[0],'TTL','states.npy')\n",
    "    ttlTimestampsPath = os.path.join(os.path.dirname(ttlStatesPath),'sample_numbers.npy')\n",
    "\n",
    "    datTimestamps = np.load(datTimestampsPath) / ephysSampleRate\n",
    "    \n",
    "    ttlStates = np.load(ttlStatesPath)\n",
    "    ttlTimestamps = np.load(ttlTimestampsPath) / ephysSampleRate - datTimestamps[0]\n",
    "    \n",
    "    barcodeRising = ttlTimestamps[ttlStates>0]\n",
    "    barcodeFalling = ttlTimestamps[ttlStates<0]\n",
    "    barcodeTimes,barcodes = ecephys.extract_barcodes_from_times(barcodeRising,barcodeFalling)\n",
    "    \n",
    "    shift,sampleRate,endpoints = ecephys.get_probe_time_offset(syncBarcodeTimes,syncBarcodes,barcodeTimes,barcodes,0,ephysSampleRate)\n",
    "\n",
    "    syncData[key]['shift'] = shift\n",
    "    syncData[key]['sampleRate'] = sampleRate\n",
    "    syncData[key]['LFPsampleRate'] = sampleRate/12"
   ]
  },
  {
   "cell_type": "code",
   "execution_count": 9,
   "id": "c10b2e64",
   "metadata": {},
   "outputs": [
    {
     "data": {
      "text/plain": [
       "array([2500.02467129])"
      ]
     },
     "execution_count": 9,
     "metadata": {},
     "output_type": "execute_result"
    }
   ],
   "source": [
    "syncData['ProbeC']['sampleRate']/12"
   ]
  },
  {
   "cell_type": "code",
   "execution_count": 17,
   "id": "44181cc5",
   "metadata": {},
   "outputs": [
    {
     "data": {
      "text/plain": [
       "array([1.76363425e+01, 1.76411424e+01, 1.76459424e+01, ...,\n",
       "       5.77501754e+04, 5.77501802e+04, 5.77501850e+04])"
      ]
     },
     "execution_count": 17,
     "metadata": {},
     "output_type": "execute_result"
    }
   ],
   "source": [
    "lfp_timestamps = lfp_samples/(syncData['ProbeC']['sampleRate']/12) - syncData['ProbeC']['shift']\n",
    "lfp_timestamps"
   ]
  },
  {
   "cell_type": "code",
   "execution_count": 19,
   "id": "0e5381bc",
   "metadata": {},
   "outputs": [
    {
     "data": {
      "text/plain": [
       "array([1.76363425e+01, 1.76411424e+01, 1.76459424e+01, ...,\n",
       "       5.77501754e+04, 5.77501802e+04, 5.77501850e+04])"
      ]
     },
     "execution_count": 19,
     "metadata": {},
     "output_type": "execute_result"
    }
   ],
   "source": [
    "lfp_timestamps = lfp_samples/(syncData['ProbeC']['sampleRate']) - syncData['ProbeC']['shift']\n",
    "lfp_timestamps"
   ]
  }
 ],
 "metadata": {
  "kernelspec": {
   "display_name": "Python [conda env:allensdk_38_new]",
   "language": "python",
   "name": "conda-env-allensdk_38_new-py"
  },
  "language_info": {
   "codemirror_mode": {
    "name": "ipython",
    "version": 3
   },
   "file_extension": ".py",
   "mimetype": "text/x-python",
   "name": "python",
   "nbconvert_exporter": "python",
   "pygments_lexer": "ipython3",
   "version": "3.8.13"
  }
 },
 "nbformat": 4,
 "nbformat_minor": 5
}
