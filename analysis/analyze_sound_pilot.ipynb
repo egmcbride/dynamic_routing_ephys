{
 "cells": [
  {
   "cell_type": "markdown",
   "id": "743f5c21",
   "metadata": {},
   "source": [
    "# Analyze sound pilot recordings"
   ]
  },
  {
   "cell_type": "code",
   "execution_count": 2,
   "id": "c8d7bb18",
   "metadata": {},
   "outputs": [],
   "source": [
    "#Import packages\n",
    "import pandas as pd\n",
    "import h5py\n",
    "import numpy as np\n",
    "import scipy as sp\n",
    "import scipy.signal as sg\n",
    "import xarray as xr\n",
    "import os\n",
    "import matplotlib.pyplot as plt\n",
    "from matplotlib import patches\n",
    "import ast\n",
    "from sklearn import svm\n",
    "import time\n",
    "\n",
    "from DR_analysis_utils import Session, makePSTH, make_neuron_time_trials_tensor\n",
    "\n",
    "from sklearn.model_selection import train_test_split, cross_val_score\n",
    "from sklearn.metrics import confusion_matrix, classification_report\n",
    "\n",
    "%matplotlib notebook"
   ]
  },
  {
   "cell_type": "code",
   "execution_count": 3,
   "id": "95638ba9",
   "metadata": {},
   "outputs": [],
   "source": [
    "#Set paths to experiment folders\n",
    "main_path = [\n",
    "    r\"\\\\allen\\programs\\mindscope\\workgroups\\dynamicrouting\\PilotEphys\\625820_06222022\\2022-06-22_14-25-10\\processed\",\n",
    "    r\"\\\\allen\\programs\\mindscope\\workgroups\\dynamicrouting\\PilotEphys\\625821_07112022\\2022-07-11_14-42-15\\processed\",\n",
    "    r\"\\\\allen\\programs\\mindscope\\workgroups\\dynamicrouting\\PilotEphys\\625821_07122022\\2022-07-12_13-51-39\\processed\",\n",
    "]\n"
   ]
  },
  {
   "cell_type": "code",
   "execution_count": null,
   "id": "8af50ea4",
   "metadata": {},
   "outputs": [],
   "source": []
  },
  {
   "cell_type": "code",
   "execution_count": null,
   "id": "3fca5e92",
   "metadata": {},
   "outputs": [],
   "source": []
  },
  {
   "cell_type": "code",
   "execution_count": null,
   "id": "646341f4",
   "metadata": {},
   "outputs": [],
   "source": []
  },
  {
   "cell_type": "code",
   "execution_count": null,
   "id": "c6a48052",
   "metadata": {},
   "outputs": [],
   "source": []
  }
 ],
 "metadata": {
  "kernelspec": {
   "display_name": "Python [conda env:allensdk_38_new]",
   "language": "python",
   "name": "conda-env-allensdk_38_new-py"
  },
  "language_info": {
   "codemirror_mode": {
    "name": "ipython",
    "version": 3
   },
   "file_extension": ".py",
   "mimetype": "text/x-python",
   "name": "python",
   "nbconvert_exporter": "python",
   "pygments_lexer": "ipython3",
   "version": "3.8.13"
  }
 },
 "nbformat": 4,
 "nbformat_minor": 5
}
